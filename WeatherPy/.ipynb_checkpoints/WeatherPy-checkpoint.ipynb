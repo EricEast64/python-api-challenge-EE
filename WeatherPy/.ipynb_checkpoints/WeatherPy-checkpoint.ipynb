{
 "cells": [
  {
   "cell_type": "markdown",
   "metadata": {},
   "source": [
    "# WeatherPy\n",
    "----\n",
    "\n",
    "#### Note\n",
    "* Instructions have been included for each segment. You do not have to follow them exactly, but they are included to help you think through the steps."
   ]
  },
  {
   "cell_type": "code",
   "execution_count": 34,
   "metadata": {
    "scrolled": true
   },
   "outputs": [],
   "source": [
    "# Dependencies and Setup\n",
    "import matplotlib.pyplot as plt\n",
    "import pandas as pd\n",
    "import numpy as np\n",
    "import requests\n",
    "import time\n",
    "from scipy.stats import linregress\n",
    "\n",
    "# Import API key\n",
    "from api_keys import weather_api_key\n",
    "\n",
    "# Incorporated citipy to determine city based on latitude and longitude\n",
    "from citipy import citipy\n",
    "\n",
    "# Output File (CSV)\n",
    "output_data_file = \"output_data/cities.csv\"\n",
    "\n",
    "# Range of latitudes and longitudes\n",
    "lat_range = (-90, 90)\n",
    "lng_range = (-180, 180)"
   ]
  },
  {
   "cell_type": "markdown",
   "metadata": {},
   "source": [
    "## Generate Cities List"
   ]
  },
  {
   "cell_type": "code",
   "execution_count": 35,
   "metadata": {},
   "outputs": [
    {
     "data": {
      "text/plain": [
       "614"
      ]
     },
     "execution_count": 35,
     "metadata": {},
     "output_type": "execute_result"
    }
   ],
   "source": [
    "# List for holding lat_lngs and cities\n",
    "lat_lngs = []\n",
    "cities = []\n",
    "\n",
    "# Create a set of random lat and lng combinations\n",
    "lats = np.random.uniform(lat_range[0], lat_range[1], size=1500)\n",
    "lngs = np.random.uniform(lng_range[0], lng_range[1], size=1500)\n",
    "lat_lngs = zip(lats, lngs)\n",
    "\n",
    "# Identify nearest city for each lat, lng combination\n",
    "for lat_lng in lat_lngs:\n",
    "    city = citipy.nearest_city(lat_lng[0], lat_lng[1]).city_name\n",
    "    \n",
    "    # If the city is unique, then add it to a our cities list\n",
    "    if city not in cities:\n",
    "        cities.append(city)\n",
    "\n",
    "# Print the city count to confirm sufficient count\n",
    "len(cities)"
   ]
  },
  {
   "cell_type": "markdown",
   "metadata": {},
   "source": [
    "### Perform API Calls\n",
    "* Perform a weather check on each city using a series of successive API calls.\n",
    "* Include a print log of each city as it'sbeing processed (with the city number and city name).\n",
    "\n",
    "> **HINT:** The OpenWeatherMap API only allows 60 calls per minute under their free plan. Try using `time.sleep(60)` after each set of 50 cities to avoid API errors due to large calls."
   ]
  },
  {
   "cell_type": "code",
   "execution_count": 36,
   "metadata": {
    "scrolled": true
   },
   "outputs": [],
   "source": [
    "url = \"http://api.openweathermap.org/data/2.5/weather?\"\n",
    "unit_parameter = \"imperial\"\n",
    "\n",
    "# Build the query url, open ended as cities will fill in the end in a loop\n",
    "query_url = f\"{url}appid={weather_api_key}&units={unit_parameter}&q=\"\n"
   ]
  },
  {
   "cell_type": "code",
   "execution_count": 37,
   "metadata": {},
   "outputs": [
    {
     "data": {
      "text/html": [
       "<div>\n",
       "<style scoped>\n",
       "    .dataframe tbody tr th:only-of-type {\n",
       "        vertical-align: middle;\n",
       "    }\n",
       "\n",
       "    .dataframe tbody tr th {\n",
       "        vertical-align: top;\n",
       "    }\n",
       "\n",
       "    .dataframe thead th {\n",
       "        text-align: right;\n",
       "    }\n",
       "</style>\n",
       "<table border=\"1\" class=\"dataframe\">\n",
       "  <thead>\n",
       "    <tr style=\"text-align: right;\">\n",
       "      <th></th>\n",
       "      <th>city</th>\n",
       "      <th>lat</th>\n",
       "      <th>lon</th>\n",
       "      <th>Max_Temp</th>\n",
       "      <th>Humidity</th>\n",
       "      <th>Cloudiness</th>\n",
       "      <th>Wind_Speed</th>\n",
       "      <th>Country</th>\n",
       "      <th>date</th>\n",
       "    </tr>\n",
       "  </thead>\n",
       "  <tbody>\n",
       "    <tr>\n",
       "      <th>0</th>\n",
       "      <td>Dummy</td>\n",
       "      <td>0</td>\n",
       "      <td>0</td>\n",
       "      <td>0</td>\n",
       "      <td>0</td>\n",
       "      <td>0</td>\n",
       "      <td>0</td>\n",
       "      <td>0</td>\n",
       "      <td>0</td>\n",
       "    </tr>\n",
       "  </tbody>\n",
       "</table>\n",
       "</div>"
      ],
      "text/plain": [
       "    city  lat  lon  Max_Temp  Humidity  Cloudiness  Wind_Speed  Country  date\n",
       "0  Dummy    0    0         0         0           0           0        0     0"
      ]
     },
     "execution_count": 37,
     "metadata": {},
     "output_type": "execute_result"
    }
   ],
   "source": [
    "# Create dataframe to populate\n",
    "weather_df = pd.DataFrame({\n",
    "            'city': 'Dummy',\n",
    "            'lat': [0],\n",
    "            'lon': [0],\n",
    "            'Max_Temp': [0],\n",
    "            'Humidity': [0],\n",
    "            'Cloudiness': [0],\n",
    "            'Wind_Speed': [0],\n",
    "            'Country': [0],\n",
    "            'date': [0]\n",
    "})\n",
    "\n",
    "weather_df"
   ]
  },
  {
   "cell_type": "code",
   "execution_count": 38,
   "metadata": {
    "scrolled": false
   },
   "outputs": [
    {
     "name": "stdout",
     "output_type": "stream",
     "text": [
      "Querying for ushuaia data\n",
      "Querying for lebu data\n",
      "Querying for mar del plata data\n",
      "Querying for rikitea data\n",
      "Querying for mataura data\n",
      "Querying for urucara data\n",
      "Querying for arraial do cabo data\n",
      "Querying for butaritari data\n",
      "Querying for buenos aires data\n",
      "Querying for husavik data\n",
      "Querying for kaitangata data\n",
      "Querying for nikolskoye data\n",
      "Querying for albany data\n",
      "Querying for temaraia data\n",
      "temaraia data not available\n",
      "Querying for busselton data\n",
      "Querying for mormugao data\n",
      "Querying for punta arenas data\n",
      "Querying for hilo data\n",
      "Querying for fortuna data\n",
      "Querying for barentsburg data\n",
      "barentsburg data not available\n",
      "Querying for liverpool data\n",
      "Querying for illoqqortoormiut data\n",
      "illoqqortoormiut data not available\n",
      "Querying for bethel data\n",
      "Querying for mahebourg data\n",
      "Querying for taolanaro data\n",
      "taolanaro data not available\n",
      "Querying for port macquarie data\n",
      "Querying for bredasdorp data\n",
      "Querying for esperance data\n",
      "Querying for grand river south east data\n",
      "grand river south east data not available\n",
      "Querying for jamestown data\n",
      "Querying for ilulissat data\n",
      "Querying for barrow data\n",
      "Querying for grand centre data\n",
      "grand centre data not available\n",
      "Querying for carnarvon data\n",
      "Querying for norman wells data\n",
      "Querying for churapcha data\n",
      "Querying for surt data\n",
      "Querying for torbay data\n",
      "Querying for ixtapa data\n",
      "Querying for kapaa data\n",
      "Querying for itarema data\n",
      "Querying for krasnoselkup data\n",
      "Querying for ila data\n",
      "Querying for mahajanga data\n",
      "Querying for vaini data\n",
      "Querying for adrar data\n",
      "Querying for linxia data\n",
      "Querying for new norfolk data\n",
      "Querying for lamar data\n",
      "Querying for vila velha data\n",
      "Querying for carutapera data\n",
      "Querying for sentyabrskiy data\n",
      "sentyabrskiy data not available\n",
      "Querying for hithadhoo data\n",
      "Querying for saskylakh data\n",
      "Querying for hobart data\n",
      "Querying for isangel data\n",
      "Querying for lavrentiya data\n",
      "Querying for xichang data\n",
      "Querying for asino data\n",
      "Querying for mosetse data\n",
      "Querying for longyearbyen data\n",
      "Querying for nizhneyansk data\n",
      "nizhneyansk data not available\n",
      "Querying for port blair data\n",
      "Querying for atuona data\n",
      "Querying for bud data\n",
      "Querying for sept-iles data\n",
      "Querying for east london data\n",
      "Querying for touros data\n",
      "Querying for terrace data\n",
      "Querying for tiksi data\n",
      "Querying for ostrovnoy data\n",
      "Querying for menongue data\n",
      "Querying for georgetown data\n",
      "Querying for tuktoyaktuk data\n",
      "Querying for iralaya data\n",
      "Querying for turukhansk data\n",
      "Querying for berdigestyakh data\n",
      "Querying for portland data\n",
      "Querying for calabozo data\n",
      "Querying for cockburn harbour data\n",
      "cockburn harbour data not available\n",
      "Querying for watsonville data\n",
      "Querying for thompson data\n",
      "Querying for upernavik data\n",
      "Querying for athens data\n",
      "Querying for chokurdakh data\n",
      "Querying for avarua data\n",
      "Querying for dukat data\n",
      "Querying for sirjan data\n",
      "Querying for kodiak data\n",
      "Querying for valparaiso data\n",
      "Querying for narsaq data\n",
      "Querying for taylorville data\n",
      "Querying for cape town data\n",
      "Querying for te anau data\n",
      "Querying for olavarria data\n",
      "Querying for segezha data\n",
      "Querying for yellowknife data\n",
      "Querying for upata data\n",
      "Querying for lazarev data\n",
      "Querying for port hedland data\n",
      "Querying for verkhnyaya inta data\n",
      "Querying for eyl data\n",
      "Querying for victoria data\n",
      "Querying for payson data\n",
      "Querying for olafsvik data\n",
      "Querying for ponta do sol data\n",
      "Querying for komsomolskiy data\n",
      "Querying for sao filipe data\n",
      "Querying for belushya guba data\n",
      "belushya guba data not available\n",
      "Querying for namatanai data\n",
      "Querying for vila franca do campo data\n",
      "Querying for ndende data\n",
      "Querying for kieta data\n",
      "Querying for safaga data\n",
      "Querying for ketchikan data\n",
      "Querying for nioro data\n",
      "Querying for ancud data\n",
      "Querying for hermanus data\n",
      "Querying for puerto ayora data\n",
      "Querying for amderma data\n",
      "amderma data not available\n",
      "Querying for praia da vitoria data\n",
      "Querying for tefe data\n",
      "Querying for schwedt data\n",
      "Querying for truro data\n",
      "Querying for ringas data\n",
      "Querying for tsihombe data\n",
      "tsihombe data not available\n",
      "Querying for biak data\n",
      "Querying for mys shmidta data\n",
      "mys shmidta data not available\n",
      "Querying for nanortalik data\n",
      "Querying for iisalmi data\n",
      "Querying for rawannawi data\n",
      "rawannawi data not available\n",
      "Querying for nyurba data\n",
      "Querying for bay roberts data\n",
      "Querying for kota kinabalu data\n",
      "Querying for batemans bay data\n",
      "Querying for monterey data\n",
      "Querying for goderich data\n",
      "Querying for geraldton data\n",
      "Querying for malwan data\n",
      "malwan data not available\n",
      "Querying for chiredzi data\n",
      "Querying for mehran data\n",
      "Querying for bengkulu data\n",
      "Querying for lagunas data\n",
      "Querying for kruisfontein data\n",
      "Querying for lahaina data\n",
      "Querying for morros data\n",
      "Querying for manggar data\n",
      "Querying for flinders data\n",
      "Querying for port hardy data\n",
      "Querying for mahaicony data\n",
      "mahaicony data not available\n",
      "Querying for katsuura data\n",
      "Querying for west des moines data\n",
      "Querying for neepawa data\n",
      "Querying for petropavlovsk-kamchatskiy data\n",
      "Querying for ahipara data\n",
      "Querying for sao miguel do oeste data\n",
      "sao miguel do oeste data not available\n",
      "Querying for pimentel data\n",
      "Querying for leningradskiy data\n",
      "Querying for caramay data\n",
      "Querying for termiz data\n",
      "Querying for ankang data\n",
      "Querying for sukumo data\n",
      "Querying for bilibino data\n",
      "Querying for chuy data\n",
      "Querying for paamiut data\n",
      "Querying for khatanga data\n",
      "Querying for nemuro data\n",
      "Querying for severo-kurilsk data\n",
      "Querying for dwarka data\n",
      "Querying for tasiilaq data\n",
      "Querying for hasaki data\n",
      "Querying for iqaluit data\n",
      "Querying for gigmoto data\n",
      "Querying for laramie data\n",
      "Querying for piacabucu data\n",
      "Querying for belmonte data\n",
      "Querying for saint anthony data\n",
      "Querying for kuryk data\n",
      "Querying for lumphat data\n",
      "Querying for souillac data\n",
      "Querying for salinopolis data\n",
      "Querying for north platte data\n",
      "Querying for coroico data\n",
      "Querying for tumannyy data\n",
      "tumannyy data not available\n",
      "Querying for tecoanapa data\n",
      "Querying for mount gambier data\n",
      "Querying for lappeenranta data\n",
      "Querying for saryshagan data\n",
      "saryshagan data not available\n",
      "Querying for marcona data\n",
      "marcona data not available\n",
      "Querying for saint-philippe data\n",
      "Querying for lompoc data\n",
      "Querying for shingu data\n",
      "Querying for college data\n",
      "Querying for cao bang data\n",
      "Querying for caarapo data\n",
      "Querying for castro data\n",
      "Querying for bireun data\n",
      "Querying for port alfred data\n",
      "Querying for abu dhabi data\n",
      "Querying for cap malheureux data\n",
      "Querying for osvaldo cruz data\n",
      "Querying for marzuq data\n",
      "Querying for alakurtti data\n",
      "Querying for sistranda data\n",
      "Querying for jardim data\n",
      "Querying for xai-xai data\n",
      "Querying for alice springs data\n",
      "Querying for faanui data\n",
      "Querying for tynda data\n",
      "Querying for hanmer springs data\n",
      "Querying for san luis data\n",
      "Querying for honiara data\n",
      "Querying for bosanska kostajnica data\n",
      "Querying for rawson data\n",
      "Querying for havre-saint-pierre data\n",
      "Querying for tapel data\n",
      "Querying for bluff data\n",
      "Querying for vernon data\n",
      "Querying for machhiwara data\n",
      "Querying for egvekinot data\n",
      "Querying for pochutla data\n",
      "Querying for luxor data\n",
      "Querying for palabuhanratu data\n",
      "palabuhanratu data not available\n",
      "Querying for saint george data\n",
      "Querying for khash data\n",
      "Querying for brae data\n",
      "Querying for dolbeau data\n",
      "dolbeau data not available\n",
      "Querying for yambio data\n",
      "Querying for port elizabeth data\n",
      "Querying for cuamba data\n",
      "Querying for cabedelo data\n",
      "Querying for nguiu data\n",
      "nguiu data not available\n",
      "Querying for morris data\n",
      "Querying for qaanaaq data\n",
      "Querying for anchorage data\n",
      "Querying for cockburn town data\n",
      "Querying for paragominas data\n",
      "Querying for asau data\n",
      "Querying for garowe data\n",
      "Querying for samusu data\n",
      "samusu data not available\n",
      "Querying for maunabo data\n",
      "Querying for lorengau data\n",
      "Querying for narasannapeta data\n",
      "Querying for contamana data\n",
      "Querying for oussouye data\n",
      "Querying for grand gaube data\n",
      "Querying for izhma data\n",
      "Querying for comodoro rivadavia data\n",
      "Querying for mezen data\n",
      "Querying for ribeira grande data\n",
      "Querying for kongwa data\n",
      "Querying for vitim data\n",
      "Querying for kommunar data\n",
      "Querying for wisconsin rapids data\n",
      "Querying for arroyo data\n",
      "Querying for cidreira data\n",
      "Querying for pujili data\n",
      "Querying for naze data\n",
      "Querying for westport data\n",
      "Querying for huilong data\n",
      "Querying for gazimurskiy zavod data\n",
      "Querying for shaunavon data\n",
      "Querying for chitral data\n",
      "Querying for salalah data\n",
      "Querying for dikson data\n",
      "Querying for pandan data\n",
      "Querying for codrington data\n",
      "Querying for pevek data\n",
      "Querying for luderitz data\n",
      "Querying for atar data\n",
      "Querying for tarhunah data\n",
      "tarhunah data not available\n",
      "Querying for jucas data\n"
     ]
    },
    {
     "name": "stdout",
     "output_type": "stream",
     "text": [
      "Querying for san vicente data\n",
      "Querying for guerrero negro data\n",
      "Querying for banda aceh data\n",
      "Querying for umzimvubu data\n",
      "umzimvubu data not available\n",
      "Querying for airai data\n",
      "Querying for general roca data\n",
      "Querying for candawaga data\n",
      "candawaga data not available\n",
      "Querying for timra data\n",
      "Querying for meulaboh data\n",
      "Querying for mareeba data\n",
      "Querying for banjar data\n",
      "Querying for moose factory data\n",
      "Querying for provideniya data\n",
      "Querying for goma data\n",
      "Querying for san antonio data\n",
      "Querying for sivaki data\n",
      "Querying for largo data\n",
      "Querying for saleaula data\n",
      "saleaula data not available\n",
      "Querying for cherskiy data\n",
      "Querying for tuatapere data\n",
      "Querying for lolua data\n",
      "lolua data not available\n",
      "Querying for broome data\n",
      "Querying for seoul data\n",
      "Querying for rio gallegos data\n",
      "Querying for peplos data\n",
      "Querying for cabo san lucas data\n",
      "Querying for vostok data\n",
      "Querying for joshimath data\n",
      "Querying for koumac data\n",
      "Querying for metehara data\n",
      "metehara data not available\n",
      "Querying for nuuk data\n",
      "Querying for thunder bay data\n",
      "Querying for clyde river data\n",
      "Querying for tokur data\n",
      "Querying for acapulco data\n",
      "Querying for lata data\n",
      "Querying for darhan data\n",
      "Querying for richards bay data\n",
      "Querying for boyolangu data\n",
      "Querying for mehamn data\n",
      "Querying for araouane data\n",
      "Querying for north las vegas data\n",
      "Querying for mount isa data\n",
      "Querying for maldonado data\n",
      "Querying for hambantota data\n",
      "Querying for khonuu data\n",
      "khonuu data not available\n",
      "Querying for upington data\n",
      "Querying for anadyr data\n",
      "Querying for hamilton data\n",
      "Querying for njombe data\n",
      "Querying for kazalinsk data\n",
      "kazalinsk data not available\n",
      "Querying for half moon bay data\n",
      "Querying for byron bay data\n",
      "Querying for cavalcante data\n",
      "Querying for mehriz data\n",
      "Querying for atka data\n",
      "atka data not available\n",
      "Querying for palu data\n",
      "Querying for santa rosalia data\n",
      "Querying for oistins data\n",
      "Querying for kutum data\n",
      "Querying for tongliao data\n",
      "Querying for ibtin data\n",
      "Querying for ararangua data\n",
      "Querying for isla mujeres data\n",
      "Querying for labuhan data\n",
      "Querying for helena data\n",
      "Querying for vestmanna data\n",
      "Querying for klaksvik data\n",
      "Querying for nouadhibou data\n",
      "Querying for ambilobe data\n",
      "Querying for eydhafushi data\n",
      "Querying for bambous virieux data\n",
      "Querying for dong hoi data\n",
      "Querying for buta data\n",
      "Querying for teya data\n",
      "Querying for shar data\n",
      "Querying for lixourion data\n",
      "Querying for batyrevo data\n",
      "Querying for luanda data\n",
      "Querying for sulangan data\n",
      "Querying for hunterville data\n",
      "Querying for bunia data\n",
      "Querying for am timan data\n",
      "Querying for aklavik data\n",
      "Querying for kavieng data\n",
      "Querying for luis correia data\n",
      "Querying for alofi data\n",
      "Querying for shonguy data\n",
      "Querying for saint-pierre data\n",
      "Querying for aykhal data\n",
      "Querying for noyabrsk data\n",
      "Querying for mogadishu data\n",
      "Querying for trinidad data\n",
      "Querying for lagoa data\n",
      "Querying for kaniama data\n",
      "Querying for ulaangom data\n",
      "Querying for uarini data\n",
      "Querying for along data\n",
      "Querying for urdzhar data\n",
      "urdzhar data not available\n",
      "Querying for bubaque data\n",
      "Querying for joao pinheiro data\n",
      "Querying for harper data\n",
      "Querying for durban data\n",
      "Querying for sehithwa data\n",
      "Querying for urumqi data\n",
      "Querying for saint-alexandre data\n",
      "Querying for slave lake data\n",
      "Querying for mahdalynivka data\n",
      "Querying for vardo data\n",
      "Querying for bathsheba data\n",
      "Querying for lerwick data\n",
      "Querying for yerbogachen data\n",
      "Querying for verkhnevilyuysk data\n",
      "Querying for abu zabad data\n",
      "Querying for romny data\n",
      "Querying for halalo data\n",
      "halalo data not available\n",
      "Querying for sao borja data\n",
      "Querying for attawapiskat data\n",
      "attawapiskat data not available\n",
      "Querying for vryburg data\n",
      "Querying for vaitupu data\n",
      "vaitupu data not available\n",
      "Querying for imbituba data\n",
      "Querying for taoudenni data\n",
      "Querying for plettenberg bay data\n",
      "Querying for swan hill data\n",
      "Querying for vestmannaeyjar data\n",
      "Querying for jiaxing data\n",
      "Querying for talaya data\n",
      "Querying for iskateley data\n",
      "Querying for rocha data\n",
      "Querying for kloulklubed data\n",
      "Querying for macaiba data\n",
      "Querying for dunedin data\n",
      "Querying for qaqortoq data\n",
      "Querying for karpathos data\n",
      "Querying for yulara data\n",
      "Querying for mao data\n",
      "Querying for namibe data\n",
      "Querying for bargal data\n",
      "bargal data not available\n",
      "Querying for ambon data\n",
      "Querying for antigonish data\n",
      "Querying for barra do corda data\n",
      "Querying for port lincoln data\n",
      "Querying for qiyang data\n",
      "Querying for kaiyuan data\n",
      "Querying for alghero data\n",
      "Querying for rorvik data\n",
      "Querying for morondava data\n",
      "Querying for kawalu data\n",
      "Querying for alyangula data\n",
      "Querying for baoqing data\n",
      "Querying for pacific grove data\n",
      "Querying for esso data\n",
      "Querying for ruatoria data\n",
      "ruatoria data not available\n",
      "Querying for mattru data\n",
      "Querying for boca do acre data\n",
      "Querying for avera data\n",
      "Querying for valdivia data\n",
      "Querying for paradwip data\n",
      "paradwip data not available\n",
      "Querying for sitka data\n",
      "Querying for fort nelson data\n",
      "Querying for mildura data\n",
      "Querying for haines junction data\n",
      "Querying for the valley data\n",
      "Querying for mecca data\n",
      "Querying for dzhusaly data\n",
      "dzhusaly data not available\n",
      "Querying for zharkent data\n",
      "Querying for dingle data\n",
      "Querying for lysva data\n",
      "Querying for bafq data\n",
      "Querying for cayenne data\n",
      "Querying for cedar rapids data\n",
      "Querying for galveston data\n",
      "Querying for sao joao da barra data\n",
      "Querying for ugoofaaru data\n",
      "Querying for yefremov data\n",
      "Querying for nohfelden data\n",
      "Querying for gidole data\n",
      "Querying for brumado data\n",
      "Querying for gazojak data\n",
      "Querying for fergus falls data\n",
      "Querying for mpulungu data\n",
      "Querying for camalu data\n",
      "Querying for varna data\n",
      "Querying for gbarnga data\n",
      "Querying for voskresenskoye data\n",
      "Querying for axim data\n",
      "Querying for kangaatsiaq data\n",
      "Querying for zaysan data\n",
      "Querying for wasilla data\n",
      "Querying for takab data\n",
      "Querying for zhigansk data\n",
      "Querying for akdepe data\n",
      "Querying for nieuw amsterdam data\n",
      "Querying for boden data\n",
      "Querying for tilichiki data\n",
      "Querying for pangnirtung data\n",
      "Querying for fairbanks data\n",
      "Querying for sur data\n",
      "Querying for colac data\n",
      "Querying for kahului data\n",
      "Querying for dunbar data\n",
      "Querying for chumikan data\n",
      "Querying for kondinskoye data\n",
      "Querying for innisfail data\n",
      "Querying for saint-francois data\n",
      "Querying for yarada data\n",
      "Querying for abong mbang data\n",
      "Querying for malkangiri data\n",
      "Querying for shu data\n",
      "Querying for leshukonskoye data\n",
      "Querying for port-de-paix data\n",
      "port-de-paix data not available\n",
      "Querying for yablonovo data\n",
      "Querying for skegness data\n",
      "Querying for miajadas data\n",
      "Querying for bilma data\n",
      "Querying for koshurnikovo data\n",
      "Querying for bonthe data\n",
      "Querying for walvis bay data\n",
      "Querying for china data\n",
      "Querying for tyrma data\n",
      "Querying for tupik data\n",
      "Querying for pouebo data\n",
      "Querying for havoysund data\n",
      "Querying for andilamena data\n",
      "Querying for black diamond data\n",
      "Querying for bandarbeyla data\n",
      "Querying for burica data\n",
      "burica data not available\n",
      "Querying for goulburn data\n",
      "Querying for pisco data\n",
      "Querying for broken hill data\n",
      "Querying for tanout data\n",
      "Querying for omboue data\n",
      "Querying for talnakh data\n",
      "Querying for las cruces data\n",
      "Querying for chabahar data\n",
      "Querying for yasnyy data\n",
      "Querying for yakeshi data\n",
      "Querying for santa rosa data\n",
      "Querying for oranjestad data\n",
      "Querying for mutoko data\n",
      "Querying for taloqan data\n",
      "Querying for hovd data\n",
      "Querying for coahuayana data\n",
      "Querying for jesus del monte data\n",
      "Querying for sinegorskiy data\n",
      "Querying for port-gentil data\n",
      "Querying for saldanha data\n",
      "Querying for vieques data\n",
      "Querying for valandovo data\n",
      "Querying for finschhafen data\n",
      "Querying for rungata data\n",
      "rungata data not available\n",
      "Querying for paso de los toros data\n",
      "Querying for popondetta data\n",
      "Querying for tehachapi data\n",
      "Querying for sorong data\n",
      "Querying for high prairie data\n",
      "Querying for preobrazheniye data\n",
      "Querying for san cristobal data\n",
      "Querying for havelock data\n",
      "Querying for jasper data\n",
      "Querying for korla data\n",
      "Querying for xuanzhou data\n",
      "Querying for hohhot data\n",
      "Querying for sargatskoye data\n",
      "Querying for konza data\n",
      "Querying for lastoursville data\n",
      "Querying for santa maria data\n",
      "Querying for tsienyane data\n",
      "tsienyane data not available\n",
      "Querying for araceli data\n",
      "Querying for privas data\n",
      "Querying for marsh harbour data\n",
      "Querying for cairns data\n",
      "Querying for bardstown data\n",
      "Querying for xiaoweizhai data\n",
      "Querying for stoyba data\n",
      "stoyba data not available\n",
      "Querying for karaton data\n",
      "Querying for coldwater data\n",
      "Querying for khani data\n",
      "Querying for constitucion data\n",
      "Querying for fayaoue data\n"
     ]
    },
    {
     "name": "stdout",
     "output_type": "stream",
     "text": [
      "Querying for chinsali data\n",
      "Querying for sinnamary data\n",
      "Querying for bambamarca data\n",
      "Querying for lagos data\n",
      "Querying for planadas data\n",
      "Querying for eyrarbakki data\n",
      "Querying for carikar data\n",
      "carikar data not available\n",
      "Querying for pontianak data\n",
      "Querying for sumbawa data\n",
      "sumbawa data not available\n",
      "Querying for khvoynaya data\n",
      "Querying for zvishavane data\n",
      "Querying for los llanos de aridane data\n",
      "Querying for auki data\n",
      "Querying for kamenskoye data\n",
      "kamenskoye data not available\n",
      "Querying for meyungs data\n",
      "meyungs data not available\n",
      "Querying for talcher data\n",
      "Querying for windsor data\n",
      "Querying for panaba data\n",
      "Querying for mana data\n",
      "Querying for zhirnovsk data\n",
      "Querying for kluang data\n",
      "Querying for flin flon data\n",
      "Querying for viedma data\n",
      "Querying for sioux city data\n",
      "Querying for tukrah data\n",
      "Querying for sundumbili data\n",
      "Querying for amazar data\n",
      "Querying for wollongong data\n",
      "Querying for vallenar data\n",
      "Querying for ilorin data\n",
      "Querying for puerto baquerizo moreno data\n",
      "Querying for north bend data\n",
      "Querying for quatre cocos data\n",
      "Querying for mopti data\n",
      "Querying for edgewater data\n",
      "Querying for bundaberg data\n",
      "Querying for morgan city data\n",
      "Querying for denpasar data\n",
      "Querying for covington data\n",
      "Querying for burns lake data\n",
      "Querying for okhotsk data\n",
      "Querying for peru data\n",
      "Querying for chernyshevskiy data\n",
      "Querying for challans data\n",
      "Querying for basdiot data\n",
      "Querying for springdale data\n",
      "Querying for sabha data\n",
      "Querying for biltine data\n",
      "Querying for penzance data\n",
      "Querying for zarechnyy data\n",
      "Querying for hinton data\n",
      "Querying for yantal data\n",
      "Querying for sayyan data\n",
      "Querying for vaitape data\n",
      "Querying for nalut data\n",
      "Querying for kirakira data\n",
      "Querying for virginia beach data\n",
      "Querying for srandakan data\n",
      "Querying for iwanai data\n",
      "Querying for grindavik data\n",
      "Querying for dawson creek data\n",
      "Querying for henties bay data\n"
     ]
    }
   ],
   "source": [
    "# For loop API call\n",
    "count = 1\n",
    "for city in cities:\n",
    "    if count % 50 == 0:\n",
    "        time.sleep(60)\n",
    "    try:\n",
    "        print(f'Querying for {city} data')\n",
    "        city_query = requests.get(query_url + city).json()\n",
    "        lat = city_query['coord']['lat']\n",
    "        lon = city_query['coord']['lon']\n",
    "        max_temp = city_query['main']['temp_max']\n",
    "        humidity = city_query['main']['humidity']\n",
    "        cloudiness = city_query['clouds']['all']\n",
    "        wind_speed = city_query['wind']['speed']\n",
    "        country = city_query['sys']['country']\n",
    "        date = city_query['dt']\n",
    "        \n",
    "        # add query results to a dictionary\n",
    "        city_dict = {\n",
    "            'city': city,\n",
    "            'lat': lat,\n",
    "            'lon': lon,\n",
    "            'Max_Temp': max_temp,\n",
    "            'Humidity': humidity,\n",
    "            'Cloudiness': cloudiness,\n",
    "            'Wind_Speed': wind_speed,\n",
    "            'Country': country,\n",
    "            'date': date\n",
    "        }\n",
    "        \n",
    "        # turn dict into df\n",
    "        city_df = pd.DataFrame([city_dict])\n",
    "        \n",
    "        # append to main dataframe\n",
    "        weather_df = pd.concat([weather_df, city_df], ignore_index=True)\n",
    "\n",
    "        \n",
    "    except:\n",
    "        print(f'{city} data not available')\n",
    "        \n",
    "    count+=1       "
   ]
  },
  {
   "cell_type": "code",
   "execution_count": 39,
   "metadata": {
    "scrolled": true
   },
   "outputs": [
    {
     "data": {
      "text/html": [
       "<div>\n",
       "<style scoped>\n",
       "    .dataframe tbody tr th:only-of-type {\n",
       "        vertical-align: middle;\n",
       "    }\n",
       "\n",
       "    .dataframe tbody tr th {\n",
       "        vertical-align: top;\n",
       "    }\n",
       "\n",
       "    .dataframe thead th {\n",
       "        text-align: right;\n",
       "    }\n",
       "</style>\n",
       "<table border=\"1\" class=\"dataframe\">\n",
       "  <thead>\n",
       "    <tr style=\"text-align: right;\">\n",
       "      <th></th>\n",
       "      <th>city</th>\n",
       "      <th>lat</th>\n",
       "      <th>lon</th>\n",
       "      <th>Max_Temp</th>\n",
       "      <th>Humidity</th>\n",
       "      <th>Cloudiness</th>\n",
       "      <th>Wind_Speed</th>\n",
       "      <th>Country</th>\n",
       "      <th>date</th>\n",
       "    </tr>\n",
       "  </thead>\n",
       "  <tbody>\n",
       "    <tr>\n",
       "      <th>0</th>\n",
       "      <td>Dummy</td>\n",
       "      <td>0.0000</td>\n",
       "      <td>0.0000</td>\n",
       "      <td>0.00</td>\n",
       "      <td>0</td>\n",
       "      <td>0</td>\n",
       "      <td>0.00</td>\n",
       "      <td>0</td>\n",
       "      <td>0</td>\n",
       "    </tr>\n",
       "    <tr>\n",
       "      <th>1</th>\n",
       "      <td>ushuaia</td>\n",
       "      <td>-54.8000</td>\n",
       "      <td>-68.3000</td>\n",
       "      <td>42.46</td>\n",
       "      <td>81</td>\n",
       "      <td>40</td>\n",
       "      <td>26.46</td>\n",
       "      <td>AR</td>\n",
       "      <td>1653946067</td>\n",
       "    </tr>\n",
       "    <tr>\n",
       "      <th>2</th>\n",
       "      <td>lebu</td>\n",
       "      <td>-37.6167</td>\n",
       "      <td>-73.6500</td>\n",
       "      <td>45.03</td>\n",
       "      <td>74</td>\n",
       "      <td>0</td>\n",
       "      <td>12.59</td>\n",
       "      <td>CL</td>\n",
       "      <td>1653946647</td>\n",
       "    </tr>\n",
       "    <tr>\n",
       "      <th>3</th>\n",
       "      <td>mar del plata</td>\n",
       "      <td>-38.0023</td>\n",
       "      <td>-57.5575</td>\n",
       "      <td>46.09</td>\n",
       "      <td>54</td>\n",
       "      <td>40</td>\n",
       "      <td>7.00</td>\n",
       "      <td>AR</td>\n",
       "      <td>1653946119</td>\n",
       "    </tr>\n",
       "    <tr>\n",
       "      <th>4</th>\n",
       "      <td>rikitea</td>\n",
       "      <td>-23.1203</td>\n",
       "      <td>-134.9692</td>\n",
       "      <td>74.26</td>\n",
       "      <td>78</td>\n",
       "      <td>41</td>\n",
       "      <td>8.88</td>\n",
       "      <td>PF</td>\n",
       "      <td>1653946264</td>\n",
       "    </tr>\n",
       "  </tbody>\n",
       "</table>\n",
       "</div>"
      ],
      "text/plain": [
       "            city      lat       lon  Max_Temp  Humidity  Cloudiness  \\\n",
       "0          Dummy   0.0000    0.0000      0.00         0           0   \n",
       "1        ushuaia -54.8000  -68.3000     42.46        81          40   \n",
       "2           lebu -37.6167  -73.6500     45.03        74           0   \n",
       "3  mar del plata -38.0023  -57.5575     46.09        54          40   \n",
       "4        rikitea -23.1203 -134.9692     74.26        78          41   \n",
       "\n",
       "   Wind_Speed Country        date  \n",
       "0        0.00       0           0  \n",
       "1       26.46      AR  1653946067  \n",
       "2       12.59      CL  1653946647  \n",
       "3        7.00      AR  1653946119  \n",
       "4        8.88      PF  1653946264  "
      ]
     },
     "execution_count": 39,
     "metadata": {},
     "output_type": "execute_result"
    }
   ],
   "source": [
    "weather_df.head()"
   ]
  },
  {
   "cell_type": "code",
   "execution_count": 40,
   "metadata": {},
   "outputs": [
    {
     "data": {
      "text/html": [
       "<div>\n",
       "<style scoped>\n",
       "    .dataframe tbody tr th:only-of-type {\n",
       "        vertical-align: middle;\n",
       "    }\n",
       "\n",
       "    .dataframe tbody tr th {\n",
       "        vertical-align: top;\n",
       "    }\n",
       "\n",
       "    .dataframe thead th {\n",
       "        text-align: right;\n",
       "    }\n",
       "</style>\n",
       "<table border=\"1\" class=\"dataframe\">\n",
       "  <thead>\n",
       "    <tr style=\"text-align: right;\">\n",
       "      <th></th>\n",
       "      <th>city</th>\n",
       "      <th>lat</th>\n",
       "      <th>lon</th>\n",
       "      <th>Max_Temp</th>\n",
       "      <th>Humidity</th>\n",
       "      <th>Cloudiness</th>\n",
       "      <th>Wind_Speed</th>\n",
       "      <th>Country</th>\n",
       "      <th>date</th>\n",
       "    </tr>\n",
       "  </thead>\n",
       "  <tbody>\n",
       "    <tr>\n",
       "      <th>1</th>\n",
       "      <td>ushuaia</td>\n",
       "      <td>-54.8000</td>\n",
       "      <td>-68.3000</td>\n",
       "      <td>42.46</td>\n",
       "      <td>81</td>\n",
       "      <td>40</td>\n",
       "      <td>26.46</td>\n",
       "      <td>AR</td>\n",
       "      <td>1653946067</td>\n",
       "    </tr>\n",
       "    <tr>\n",
       "      <th>2</th>\n",
       "      <td>lebu</td>\n",
       "      <td>-37.6167</td>\n",
       "      <td>-73.6500</td>\n",
       "      <td>45.03</td>\n",
       "      <td>74</td>\n",
       "      <td>0</td>\n",
       "      <td>12.59</td>\n",
       "      <td>CL</td>\n",
       "      <td>1653946647</td>\n",
       "    </tr>\n",
       "    <tr>\n",
       "      <th>3</th>\n",
       "      <td>mar del plata</td>\n",
       "      <td>-38.0023</td>\n",
       "      <td>-57.5575</td>\n",
       "      <td>46.09</td>\n",
       "      <td>54</td>\n",
       "      <td>40</td>\n",
       "      <td>7.00</td>\n",
       "      <td>AR</td>\n",
       "      <td>1653946119</td>\n",
       "    </tr>\n",
       "    <tr>\n",
       "      <th>4</th>\n",
       "      <td>rikitea</td>\n",
       "      <td>-23.1203</td>\n",
       "      <td>-134.9692</td>\n",
       "      <td>74.26</td>\n",
       "      <td>78</td>\n",
       "      <td>41</td>\n",
       "      <td>8.88</td>\n",
       "      <td>PF</td>\n",
       "      <td>1653946264</td>\n",
       "    </tr>\n",
       "    <tr>\n",
       "      <th>5</th>\n",
       "      <td>mataura</td>\n",
       "      <td>-46.1927</td>\n",
       "      <td>168.8643</td>\n",
       "      <td>52.48</td>\n",
       "      <td>85</td>\n",
       "      <td>100</td>\n",
       "      <td>3.96</td>\n",
       "      <td>NZ</td>\n",
       "      <td>1653946265</td>\n",
       "    </tr>\n",
       "  </tbody>\n",
       "</table>\n",
       "</div>"
      ],
      "text/plain": [
       "            city      lat       lon  Max_Temp  Humidity  Cloudiness  \\\n",
       "1        ushuaia -54.8000  -68.3000     42.46        81          40   \n",
       "2           lebu -37.6167  -73.6500     45.03        74           0   \n",
       "3  mar del plata -38.0023  -57.5575     46.09        54          40   \n",
       "4        rikitea -23.1203 -134.9692     74.26        78          41   \n",
       "5        mataura -46.1927  168.8643     52.48        85         100   \n",
       "\n",
       "   Wind_Speed Country        date  \n",
       "1       26.46      AR  1653946067  \n",
       "2       12.59      CL  1653946647  \n",
       "3        7.00      AR  1653946119  \n",
       "4        8.88      PF  1653946264  \n",
       "5        3.96      NZ  1653946265  "
      ]
     },
     "execution_count": 40,
     "metadata": {},
     "output_type": "execute_result"
    }
   ],
   "source": [
    "# delete dummy row\n",
    "weather_df = weather_df.drop([0])\n",
    "weather_df.head()"
   ]
  },
  {
   "cell_type": "markdown",
   "metadata": {},
   "source": [
    "### Convert Raw Data to DataFrame\n",
    "* Export the city data into a .csv.\n",
    "* Display the DataFrame"
   ]
  },
  {
   "cell_type": "code",
   "execution_count": 41,
   "metadata": {
    "scrolled": true
   },
   "outputs": [],
   "source": [
    "weather_df.to_csv('../output_data/cities_weather_data.csv')"
   ]
  },
  {
   "cell_type": "markdown",
   "metadata": {},
   "source": [
    "## Inspect the data and remove the cities where the humidity > 100%.\n",
    "----\n",
    "Skip this step if there are no cities that have humidity > 100%. "
   ]
  },
  {
   "cell_type": "code",
   "execution_count": 42,
   "metadata": {},
   "outputs": [
    {
     "data": {
      "text/html": [
       "<div>\n",
       "<style scoped>\n",
       "    .dataframe tbody tr th:only-of-type {\n",
       "        vertical-align: middle;\n",
       "    }\n",
       "\n",
       "    .dataframe tbody tr th {\n",
       "        vertical-align: top;\n",
       "    }\n",
       "\n",
       "    .dataframe thead th {\n",
       "        text-align: right;\n",
       "    }\n",
       "</style>\n",
       "<table border=\"1\" class=\"dataframe\">\n",
       "  <thead>\n",
       "    <tr style=\"text-align: right;\">\n",
       "      <th></th>\n",
       "      <th>city</th>\n",
       "      <th>lat</th>\n",
       "      <th>lon</th>\n",
       "      <th>Max_Temp</th>\n",
       "      <th>Humidity</th>\n",
       "      <th>Cloudiness</th>\n",
       "      <th>Wind_Speed</th>\n",
       "      <th>Country</th>\n",
       "      <th>date</th>\n",
       "    </tr>\n",
       "  </thead>\n",
       "  <tbody>\n",
       "  </tbody>\n",
       "</table>\n",
       "</div>"
      ],
      "text/plain": [
       "Empty DataFrame\n",
       "Columns: [city, lat, lon, Max_Temp, Humidity, Cloudiness, Wind_Speed, Country, date]\n",
       "Index: []"
      ]
     },
     "execution_count": 42,
     "metadata": {},
     "output_type": "execute_result"
    }
   ],
   "source": [
    "# empty dataframe indicating no cities above 100% (which would be impossible)\n",
    "humidity_df = weather_df[weather_df['Humidity'] > 100]\n",
    "humidity_df"
   ]
  },
  {
   "cell_type": "code",
   "execution_count": 43,
   "metadata": {},
   "outputs": [],
   "source": [
    "#  Get the indices of cities that have humidity over 100%.\n"
   ]
  },
  {
   "cell_type": "code",
   "execution_count": 44,
   "metadata": {},
   "outputs": [
    {
     "data": {
      "text/html": [
       "<div>\n",
       "<style scoped>\n",
       "    .dataframe tbody tr th:only-of-type {\n",
       "        vertical-align: middle;\n",
       "    }\n",
       "\n",
       "    .dataframe tbody tr th {\n",
       "        vertical-align: top;\n",
       "    }\n",
       "\n",
       "    .dataframe thead th {\n",
       "        text-align: right;\n",
       "    }\n",
       "</style>\n",
       "<table border=\"1\" class=\"dataframe\">\n",
       "  <thead>\n",
       "    <tr style=\"text-align: right;\">\n",
       "      <th></th>\n",
       "      <th>city</th>\n",
       "      <th>lat</th>\n",
       "      <th>lon</th>\n",
       "      <th>Max_Temp</th>\n",
       "      <th>Humidity</th>\n",
       "      <th>Cloudiness</th>\n",
       "      <th>Wind_Speed</th>\n",
       "      <th>Country</th>\n",
       "      <th>date</th>\n",
       "    </tr>\n",
       "  </thead>\n",
       "  <tbody>\n",
       "    <tr>\n",
       "      <th>1</th>\n",
       "      <td>ushuaia</td>\n",
       "      <td>-54.8000</td>\n",
       "      <td>-68.3000</td>\n",
       "      <td>42.46</td>\n",
       "      <td>81</td>\n",
       "      <td>40</td>\n",
       "      <td>26.46</td>\n",
       "      <td>AR</td>\n",
       "      <td>1653946067</td>\n",
       "    </tr>\n",
       "    <tr>\n",
       "      <th>2</th>\n",
       "      <td>lebu</td>\n",
       "      <td>-37.6167</td>\n",
       "      <td>-73.6500</td>\n",
       "      <td>45.03</td>\n",
       "      <td>74</td>\n",
       "      <td>0</td>\n",
       "      <td>12.59</td>\n",
       "      <td>CL</td>\n",
       "      <td>1653946647</td>\n",
       "    </tr>\n",
       "    <tr>\n",
       "      <th>3</th>\n",
       "      <td>mar del plata</td>\n",
       "      <td>-38.0023</td>\n",
       "      <td>-57.5575</td>\n",
       "      <td>46.09</td>\n",
       "      <td>54</td>\n",
       "      <td>40</td>\n",
       "      <td>7.00</td>\n",
       "      <td>AR</td>\n",
       "      <td>1653946119</td>\n",
       "    </tr>\n",
       "    <tr>\n",
       "      <th>4</th>\n",
       "      <td>rikitea</td>\n",
       "      <td>-23.1203</td>\n",
       "      <td>-134.9692</td>\n",
       "      <td>74.26</td>\n",
       "      <td>78</td>\n",
       "      <td>41</td>\n",
       "      <td>8.88</td>\n",
       "      <td>PF</td>\n",
       "      <td>1653946264</td>\n",
       "    </tr>\n",
       "    <tr>\n",
       "      <th>5</th>\n",
       "      <td>mataura</td>\n",
       "      <td>-46.1927</td>\n",
       "      <td>168.8643</td>\n",
       "      <td>52.48</td>\n",
       "      <td>85</td>\n",
       "      <td>100</td>\n",
       "      <td>3.96</td>\n",
       "      <td>NZ</td>\n",
       "      <td>1653946265</td>\n",
       "    </tr>\n",
       "    <tr>\n",
       "      <th>...</th>\n",
       "      <td>...</td>\n",
       "      <td>...</td>\n",
       "      <td>...</td>\n",
       "      <td>...</td>\n",
       "      <td>...</td>\n",
       "      <td>...</td>\n",
       "      <td>...</td>\n",
       "      <td>...</td>\n",
       "      <td>...</td>\n",
       "    </tr>\n",
       "    <tr>\n",
       "      <th>560</th>\n",
       "      <td>srandakan</td>\n",
       "      <td>-7.9386</td>\n",
       "      <td>110.2506</td>\n",
       "      <td>75.27</td>\n",
       "      <td>88</td>\n",
       "      <td>55</td>\n",
       "      <td>2.48</td>\n",
       "      <td>ID</td>\n",
       "      <td>1653947521</td>\n",
       "    </tr>\n",
       "    <tr>\n",
       "      <th>561</th>\n",
       "      <td>iwanai</td>\n",
       "      <td>42.9744</td>\n",
       "      <td>140.5089</td>\n",
       "      <td>53.37</td>\n",
       "      <td>83</td>\n",
       "      <td>100</td>\n",
       "      <td>8.32</td>\n",
       "      <td>JP</td>\n",
       "      <td>1653947521</td>\n",
       "    </tr>\n",
       "    <tr>\n",
       "      <th>562</th>\n",
       "      <td>grindavik</td>\n",
       "      <td>63.8424</td>\n",
       "      <td>-22.4338</td>\n",
       "      <td>48.67</td>\n",
       "      <td>100</td>\n",
       "      <td>100</td>\n",
       "      <td>8.05</td>\n",
       "      <td>IS</td>\n",
       "      <td>1653947521</td>\n",
       "    </tr>\n",
       "    <tr>\n",
       "      <th>563</th>\n",
       "      <td>dawson creek</td>\n",
       "      <td>55.7666</td>\n",
       "      <td>-120.2362</td>\n",
       "      <td>60.44</td>\n",
       "      <td>39</td>\n",
       "      <td>75</td>\n",
       "      <td>11.50</td>\n",
       "      <td>CA</td>\n",
       "      <td>1653947522</td>\n",
       "    </tr>\n",
       "    <tr>\n",
       "      <th>564</th>\n",
       "      <td>henties bay</td>\n",
       "      <td>-22.1160</td>\n",
       "      <td>14.2845</td>\n",
       "      <td>58.41</td>\n",
       "      <td>78</td>\n",
       "      <td>0</td>\n",
       "      <td>7.72</td>\n",
       "      <td>NA</td>\n",
       "      <td>1653947522</td>\n",
       "    </tr>\n",
       "  </tbody>\n",
       "</table>\n",
       "<p>564 rows × 9 columns</p>\n",
       "</div>"
      ],
      "text/plain": [
       "              city      lat       lon  Max_Temp  Humidity  Cloudiness  \\\n",
       "1          ushuaia -54.8000  -68.3000     42.46        81          40   \n",
       "2             lebu -37.6167  -73.6500     45.03        74           0   \n",
       "3    mar del plata -38.0023  -57.5575     46.09        54          40   \n",
       "4          rikitea -23.1203 -134.9692     74.26        78          41   \n",
       "5          mataura -46.1927  168.8643     52.48        85         100   \n",
       "..             ...      ...       ...       ...       ...         ...   \n",
       "560      srandakan  -7.9386  110.2506     75.27        88          55   \n",
       "561         iwanai  42.9744  140.5089     53.37        83         100   \n",
       "562      grindavik  63.8424  -22.4338     48.67       100         100   \n",
       "563   dawson creek  55.7666 -120.2362     60.44        39          75   \n",
       "564    henties bay -22.1160   14.2845     58.41        78           0   \n",
       "\n",
       "     Wind_Speed Country        date  \n",
       "1         26.46      AR  1653946067  \n",
       "2         12.59      CL  1653946647  \n",
       "3          7.00      AR  1653946119  \n",
       "4          8.88      PF  1653946264  \n",
       "5          3.96      NZ  1653946265  \n",
       "..          ...     ...         ...  \n",
       "560        2.48      ID  1653947521  \n",
       "561        8.32      JP  1653947521  \n",
       "562        8.05      IS  1653947521  \n",
       "563       11.50      CA  1653947522  \n",
       "564        7.72      NA  1653947522  \n",
       "\n",
       "[564 rows x 9 columns]"
      ]
     },
     "execution_count": 44,
     "metadata": {},
     "output_type": "execute_result"
    }
   ],
   "source": [
    "# Make a new DataFrame equal to the city data to drop all humidity outliers by index.\n",
    "# Passing \"inplace=False\" will make a copy of the city_data DataFrame, which we call \"clean_city_data\".\n",
    "clean_city_data = weather_df\n",
    "clean_city_data"
   ]
  },
  {
   "cell_type": "code",
   "execution_count": null,
   "metadata": {},
   "outputs": [],
   "source": [
    "\n"
   ]
  },
  {
   "cell_type": "markdown",
   "metadata": {},
   "source": [
    "## Plotting the Data\n",
    "* Use proper labeling of the plots using plot titles (including date of analysis) and axes labels.\n",
    "* Save the plotted figures as .pngs."
   ]
  },
  {
   "cell_type": "markdown",
   "metadata": {},
   "source": [
    "## Latitude vs. Temperature Plot"
   ]
  },
  {
   "cell_type": "code",
   "execution_count": 45,
   "metadata": {
    "scrolled": true
   },
   "outputs": [
    {
     "data": {
      "image/png": "[encoded data removed]",
      "text/plain": [
       "<Figure size 432x288 with 1 Axes>"
      ]
     },
     "metadata": {
      "needs_background": "light"
     },
     "output_type": "display_data"
    }
   ],
   "source": [
    "plt.scatter(clean_city_data[\"lat\"], clean_city_data[\"Max_Temp\"],\n",
    "            edgecolor=\"black\", linewidths=1, marker=\"o\", alpha=1.0, label=\"Cities\")\n",
    "\n",
    "plt.title(\"City Latitude vs. Max Temperature (F)\")\n",
    "plt.ylabel(\"Max Temperature (F)\")\n",
    "plt.xlabel(\"Latitude\")\n",
    "plt.grid(True)\n",
    "\n",
    "plt.savefig(\"../output_data/Latitude vs Temperature (F).png\")"
   ]
  },
  {
   "cell_type": "markdown",
   "metadata": {},
   "source": [
    "## Latitude vs. Humidity Plot"
   ]
  },
  {
   "cell_type": "code",
   "execution_count": 46,
   "metadata": {},
   "outputs": [
    {
     "data": {
      "image/png": "[encoded data removed]",
      "text/plain": [
       "<Figure size 432x288 with 1 Axes>"
      ]
     },
     "metadata": {
      "needs_background": "light"
     },
     "output_type": "display_data"
    }
   ],
   "source": [
    "plt.scatter(clean_city_data[\"lat\"], clean_city_data[\"Humidity\"],\n",
    "            edgecolor=\"black\", linewidths=1, marker=\"o\", alpha=1.0, label=\"Cities\")\n",
    "\n",
    "plt.title(\"City Latitude vs. Humidity %\")\n",
    "plt.ylabel(\"Humidity (%)\")\n",
    "plt.xlabel(\"Latitude\")\n",
    "plt.grid(True)\n",
    "\n",
    "plt.savefig(\"../output_data/Latitude vs Humidity.png\")"
   ]
  },
  {
   "cell_type": "markdown",
   "metadata": {},
   "source": [
    "## Latitude vs. Cloudiness Plot"
   ]
  },
  {
   "cell_type": "code",
   "execution_count": 47,
   "metadata": {},
   "outputs": [
    {
     "data": {
      "image/png": "[encoded data removed]",
      "text/plain": [
       "<Figure size 432x288 with 1 Axes>"
      ]
     },
     "metadata": {
      "needs_background": "light"
     },
     "output_type": "display_data"
    }
   ],
   "source": [
    "plt.scatter(clean_city_data[\"lat\"], clean_city_data[\"Cloudiness\"],\n",
    "            edgecolor=\"black\", linewidths=1, marker=\"o\", alpha=1.0, label=\"Cities\")\n",
    "\n",
    "plt.title(\"City Latitude vs. Cloudiness\")\n",
    "plt.ylabel(\"Cloudiness\")\n",
    "plt.xlabel(\"Latitude\")\n",
    "plt.grid(True)\n",
    "\n",
    "plt.savefig(\"../output_data/Latitude vs Cloudiness.png\")"
   ]
  },
  {
   "cell_type": "markdown",
   "metadata": {},
   "source": [
    "## Latitude vs. Wind Speed Plot"
   ]
  },
  {
   "cell_type": "code",
   "execution_count": 48,
   "metadata": {},
   "outputs": [
    {
     "data": {
      "image/png": "[encoded data removed]",
      "text/plain": [
       "<Figure size 432x288 with 1 Axes>"
      ]
     },
     "metadata": {
      "needs_background": "light"
     },
     "output_type": "display_data"
    }
   ],
   "source": [
    "plt.scatter(clean_city_data[\"lat\"], clean_city_data[\"Wind_Speed\"],\n",
    "            edgecolor=\"black\", linewidths=1, marker=\"o\", alpha=1.0, label=\"Cities\")\n",
    "\n",
    "plt.title(\"City Latitude vs. Wind Speed\")\n",
    "plt.ylabel(\"Wind Speed\")\n",
    "plt.xlabel(\"Latitude\")\n",
    "plt.grid(True)\n",
    "\n",
    "plt.savefig(\"../output_data/Latitude vs Wind Speed.png\")"
   ]
  },
  {
   "cell_type": "markdown",
   "metadata": {},
   "source": [
    "## Linear Regression"
   ]
  },
  {
   "cell_type": "code",
   "execution_count": 58,
   "metadata": {},
   "outputs": [],
   "source": [
    "# Seperate dataframes for hemispheres\n",
    "northern_df = clean_city_data[clean_city_data['lat'] > 0]\n",
    "southern_df = clean_city_data[clean_city_data['lat'] < 0]"
   ]
  },
  {
   "cell_type": "markdown",
   "metadata": {},
   "source": [
    "####  Northern Hemisphere - Max Temp vs. Latitude Linear Regression"
   ]
  },
  {
   "cell_type": "code",
   "execution_count": 60,
   "metadata": {},
   "outputs": [
    {
     "name": "stdout",
     "output_type": "stream",
     "text": [
      "r-squared = -0.7685837936934629\n"
     ]
    },
    {
     "data": {
      "image/png": "[encoded data removed]",
      "text/plain": [
       "<Figure size 432x288 with 1 Axes>"
      ]
     },
     "metadata": {
      "needs_background": "light"
     },
     "output_type": "display_data"
    }
   ],
   "source": [
    "# calc regression\n",
    "x = northern_df['lat']\n",
    "y = northern_df['Max_Temp']\n",
    "(slope, intercept, rvalue, pvalue, stderr) = linregress(x, y)\n",
    "regress = x * slope + intercept\n",
    "\n",
    "fit_line = \"y =\" + str(round(slope,2)) + \"x + \" + str(round(intercept,2))\n",
    "\n",
    "print(f'r-squared = {rvalue}')\n",
    "\n",
    "# create plot\n",
    "plt.scatter(x,y)\n",
    "plt.plot(x,regress, \"r-\")\n",
    "plt.annotate(fit_line,(10,40),fontsize=12,color=\"red\")\n",
    "plt.xlabel('Latitude')\n",
    "plt.ylabel('Max Temperature (F)')\n",
    "plt.title('Northern Hemisphere - Max Temp vs. Latitude Regression')\n",
    "\n",
    "plt.savefig(\"../output_data/North Max Temp v Latitude.png\")"
   ]
  },
  {
   "cell_type": "markdown",
   "metadata": {},
   "source": [
    "####  Southern Hemisphere - Max Temp vs. Latitude Linear Regression"
   ]
  },
  {
   "cell_type": "code",
   "execution_count": 66,
   "metadata": {},
   "outputs": [
    {
     "name": "stdout",
     "output_type": "stream",
     "text": [
      "r-squared = 0.7850562669863289\n"
     ]
    },
    {
     "data": {
      "image/png": "[encoded data removed]",
      "text/plain": [
       "<Figure size 432x288 with 1 Axes>"
      ]
     },
     "metadata": {
      "needs_background": "light"
     },
     "output_type": "display_data"
    }
   ],
   "source": [
    "# calc regression\n",
    "x = southern_df['lat']\n",
    "y = southern_df['Max_Temp']\n",
    "(slope, intercept, rvalue, pvalue, stderr) = linregress(x, y)\n",
    "regress = x * slope + intercept\n",
    "\n",
    "fit_line = \"y =\" + str(round(slope,2)) + \"x + \" + str(round(intercept,2))\n",
    "\n",
    "print(f'r-squared = {rvalue}')\n",
    "\n",
    "# create plot\n",
    "plt.scatter(x,y)\n",
    "plt.plot(x,regress, \"r-\")\n",
    "plt.annotate(fit_line,(-20,40),fontsize=12,color=\"red\")\n",
    "plt.xlabel('Latitude')\n",
    "plt.ylabel('Max Temperature (F)')\n",
    "plt.title('Southern Hemisphere - Max Temp vs. Latitude Regression')\n",
    "\n",
    "plt.savefig(\"../output_data/South Max Temp v Latitude.png\")"
   ]
  },
  {
   "cell_type": "markdown",
   "metadata": {},
   "source": [
    "####  Northern Hemisphere - Humidity (%) vs. Latitude Linear Regression"
   ]
  },
  {
   "cell_type": "code",
   "execution_count": 64,
   "metadata": {},
   "outputs": [
    {
     "name": "stdout",
     "output_type": "stream",
     "text": [
      "r-squared = 0.1027431352908806\n"
     ]
    },
    {
     "data": {
      "image/png": "[encoded data removed]",
      "text/plain": [
       "<Figure size 432x288 with 1 Axes>"
      ]
     },
     "metadata": {
      "needs_background": "light"
     },
     "output_type": "display_data"
    }
   ],
   "source": [
    "# calc regression\n",
    "x = northern_df['lat']\n",
    "y = northern_df['Humidity']\n",
    "(slope, intercept, rvalue, pvalue, stderr) = linregress(x, y)\n",
    "regress = x * slope + intercept\n",
    "\n",
    "fit_line = \"y =\" + str(round(slope,2)) + \"x + \" + str(round(intercept,2))\n",
    "\n",
    "print(f'r-squared = {rvalue}')\n",
    "\n",
    "# create plot\n",
    "plt.scatter(x,y)\n",
    "plt.plot(x,regress, \"r-\")\n",
    "plt.annotate(fit_line,(50,5),fontsize=12,color=\"red\")\n",
    "plt.xlabel('Latitude')\n",
    "plt.ylabel('Humidity')\n",
    "plt.title('Northern Hemisphere - Humidity vs. Latitude Regression')\n",
    "\n",
    "plt.savefig(\"../output_data/North Humidity v Latitude.png\")"
   ]
  },
  {
   "cell_type": "markdown",
   "metadata": {},
   "source": [
    "####  Southern Hemisphere - Humidity (%) vs. Latitude Linear Regression"
   ]
  },
  {
   "cell_type": "code",
   "execution_count": 67,
   "metadata": {},
   "outputs": [
    {
     "name": "stdout",
     "output_type": "stream",
     "text": [
      "r-squared = 0.2546776695789462\n"
     ]
    },
    {
     "data": {
      "image/png": "[encoded data removed]",
      "text/plain": [
       "<Figure size 432x288 with 1 Axes>"
      ]
     },
     "metadata": {
      "needs_background": "light"
     },
     "output_type": "display_data"
    }
   ],
   "source": [
    "# calc regression\n",
    "x = southern_df['lat']\n",
    "y = southern_df['Humidity']\n",
    "(slope, intercept, rvalue, pvalue, stderr) = linregress(x, y)\n",
    "regress = x * slope + intercept\n",
    "\n",
    "fit_line = \"y =\" + str(round(slope,2)) + \"x + \" + str(round(intercept,2))\n",
    "\n",
    "print(f'r-squared = {rvalue}')\n",
    "\n",
    "# create plot\n",
    "plt.scatter(x,y)\n",
    "plt.plot(x,regress, \"r-\")\n",
    "plt.annotate(fit_line,(-50,30),fontsize=12,color=\"red\")\n",
    "plt.xlabel('Latitude')\n",
    "plt.ylabel('Humidity')\n",
    "plt.title('Southern Hemisphere - Humidity vs. Latitude Regression')\n",
    "\n",
    "plt.savefig(\"../output_data/South Humidity v Latitude.png\")"
   ]
  },
  {
   "cell_type": "markdown",
   "metadata": {},
   "source": [
    "####  Northern Hemisphere - Cloudiness (%) vs. Latitude Linear Regression"
   ]
  },
  {
   "cell_type": "code",
   "execution_count": 68,
   "metadata": {},
   "outputs": [
    {
     "name": "stdout",
     "output_type": "stream",
     "text": [
      "r-squared = 0.025913291647617753\n"
     ]
    },
    {
     "data": {
      "image/png": "[encoded data removed]",
      "text/plain": [
       "<Figure size 432x288 with 1 Axes>"
      ]
     },
     "metadata": {
      "needs_background": "light"
     },
     "output_type": "display_data"
    }
   ],
   "source": [
    "# calc regression\n",
    "x = northern_df['lat']\n",
    "y = northern_df['Cloudiness']\n",
    "(slope, intercept, rvalue, pvalue, stderr) = linregress(x, y)\n",
    "regress = x * slope + intercept\n",
    "\n",
    "fit_line = \"y =\" + str(round(slope,2)) + \"x + \" + str(round(intercept,2))\n",
    "\n",
    "print(f'r-squared = {rvalue}')\n",
    "\n",
    "# create plot\n",
    "plt.scatter(x,y)\n",
    "plt.plot(x,regress, \"r-\")\n",
    "plt.annotate(fit_line,(40,20),fontsize=12,color=\"red\")\n",
    "plt.xlabel('Latitude')\n",
    "plt.ylabel('Cloudiness')\n",
    "plt.title('Northern Hemisphere - Humidity vs. Latitude Regression')\n",
    "\n",
    "plt.savefig(\"../output_data/North Cloudiness v Latitude.png\")"
   ]
  },
  {
   "cell_type": "markdown",
   "metadata": {},
   "source": [
    "####  Southern Hemisphere - Cloudiness (%) vs. Latitude Linear Regression"
   ]
  },
  {
   "cell_type": "code",
   "execution_count": 72,
   "metadata": {},
   "outputs": [
    {
     "name": "stdout",
     "output_type": "stream",
     "text": [
      "r-squared = -0.0026759077051400544\n"
     ]
    },
    {
     "data": {
      "image/png": "[encoded data removed]",
      "text/plain": [
       "<Figure size 432x288 with 1 Axes>"
      ]
     },
     "metadata": {
      "needs_background": "light"
     },
     "output_type": "display_data"
    }
   ],
   "source": [
    "# calc regression\n",
    "x = southern_df['lat']\n",
    "y = southern_df['Cloudiness']\n",
    "(slope, intercept, rvalue, pvalue, stderr) = linregress(x, y)\n",
    "regress = x * slope + intercept\n",
    "\n",
    "fit_line = \"y =\" + str(round(slope,2)) + \"x + \" + str(round(intercept,2))\n",
    "\n",
    "print(f'r-squared = {rvalue}')\n",
    "\n",
    "# create plot\n",
    "plt.scatter(x,y)\n",
    "plt.plot(x,regress, \"r-\")\n",
    "plt.annotate(fit_line,(-50,10),fontsize=12,color=\"red\")\n",
    "plt.xlabel('Latitude')\n",
    "plt.ylabel('Cloudiness')\n",
    "plt.title('Southern Hemisphere - Cloudiness vs. Latitude Regression')\n",
    "\n",
    "plt.savefig(\"../output_data/South Cloudiness v Latitude.png\")"
   ]
  },
  {
   "cell_type": "markdown",
   "metadata": {},
   "source": [
    "####  Northern Hemisphere - Wind Speed (mph) vs. Latitude Linear Regression"
   ]
  },
  {
   "cell_type": "code",
   "execution_count": 75,
   "metadata": {},
   "outputs": [
    {
     "name": "stdout",
     "output_type": "stream",
     "text": [
      "r-squared = -0.08264971163064957\n"
     ]
    },
    {
     "data": {
      "image/png": "[encoded data removed]",
      "text/plain": [
       "<Figure size 432x288 with 1 Axes>"
      ]
     },
     "metadata": {
      "needs_background": "light"
     },
     "output_type": "display_data"
    }
   ],
   "source": [
    "# calc regression\n",
    "x = northern_df['lat']\n",
    "y = northern_df['Wind_Speed']\n",
    "(slope, intercept, rvalue, pvalue, stderr) = linregress(x, y)\n",
    "regress = x * slope + intercept\n",
    "\n",
    "fit_line = \"y =\" + str(round(slope,2)) + \"x + \" + str(round(intercept,2))\n",
    "\n",
    "print(f'r-squared = {rvalue}')\n",
    "\n",
    "# create plot\n",
    "plt.scatter(x,y)\n",
    "plt.plot(x,regress, \"r-\")\n",
    "plt.annotate(fit_line,(40,20),fontsize=12,color=\"red\")\n",
    "plt.xlabel('Latitude')\n",
    "plt.ylabel('Wind Speed')\n",
    "plt.title('Northern Hemisphere - Wind Speed vs. Latitude Regression')\n",
    "\n",
    "plt.savefig(\"../output_data/North Wind Speed v Latitude.png\")"
   ]
  },
  {
   "cell_type": "markdown",
   "metadata": {},
   "source": [
    "####  Southern Hemisphere - Wind Speed (mph) vs. Latitude Linear Regression"
   ]
  },
  {
   "cell_type": "code",
   "execution_count": 76,
   "metadata": {},
   "outputs": [
    {
     "name": "stdout",
     "output_type": "stream",
     "text": [
      "r-squared = -0.3750504179388386\n"
     ]
    },
    {
     "data": {
      "image/png": "[encoded data removed]",
      "text/plain": [
       "<Figure size 432x288 with 1 Axes>"
      ]
     },
     "metadata": {
      "needs_background": "light"
     },
     "output_type": "display_data"
    }
   ],
   "source": [
    "# calc regression\n",
    "x = southern_df['lat']\n",
    "y = southern_df['Wind_Speed']\n",
    "(slope, intercept, rvalue, pvalue, stderr) = linregress(x, y)\n",
    "regress = x * slope + intercept\n",
    "\n",
    "fit_line = \"y =\" + str(round(slope,2)) + \"x + \" + str(round(intercept,2))\n",
    "\n",
    "print(f'r-squared = {rvalue}')\n",
    "\n",
    "# create plot\n",
    "plt.scatter(x,y)\n",
    "plt.plot(x,regress, \"r-\")\n",
    "plt.annotate(fit_line,(-40,20),fontsize=12,color=\"red\")\n",
    "plt.xlabel('Latitude')\n",
    "plt.ylabel('Wind Speed')\n",
    "plt.title('Southern Hemisphere - Wind Speed vs. Latitude Regression')\n",
    "\n",
    "plt.savefig(\"../output_data/South Wind Speed v Latitude.png\")"
   ]
  },
  {
   "cell_type": "code",
   "execution_count": null,
   "metadata": {},
   "outputs": [],
   "source": []
  }
 ],
 "metadata": {
  "anaconda-cloud": {},
  "kernel_info": {
   "name": "python3"
  },
  "kernelspec": {
   "display_name": "Python [conda env:PythonData] *",
   "language": "python",
   "name": "conda-env-PythonData-py"
  },
  "language_info": {
   "codemirror_mode": {
    "name": "ipython",
    "version": 3
   },
   "file_extension": ".py",
   "mimetype": "text/x-python",
   "name": "python",
   "nbconvert_exporter": "python",
   "pygments_lexer": "ipython3",
   "version": "3.6.10"
  },
  "latex_envs": {
   "LaTeX_envs_menu_present": true,
   "autoclose": false,
   "autocomplete": true,
   "bibliofile": "biblio.bib",
   "cite_by": "apalike",
   "current_citInitial": 1,
   "eqLabelWithNumbers": true,
   "eqNumInitial": 1,
   "hotkeys": {
    "equation": "Ctrl-E",
    "itemize": "Ctrl-I"
   },
   "labels_anchors": false,
   "latex_user_defs": false,
   "report_style_numbering": false,
   "user_envs_cfg": false
  },
  "nteract": {
   "version": "0.12.3"
  }
 },
 "nbformat": 4,
 "nbformat_minor": 2
}
